{
 "cells": [
  {
   "cell_type": "code",
   "execution_count": null,
   "metadata": {},
   "outputs": [],
   "source": [
    "##LABORATORIO/TAREA 1 ALGORITMO DE DIJKSTRA\n",
    "\n",
    "#ELIDA DOMÍNGUEZ 7-708-1272\n",
    "#INGENIERÍA EN MECATRONICA SEDE CENTRAL\n"
   ]
  },
  {
   "cell_type": "code",
   "execution_count": 1,
   "metadata": {},
   "outputs": [
    {
     "name": "stdout",
     "output_type": "stream",
     "text": [
      "Camino mas corto: ['e', 'd', 'c', 'a']\n",
      "Valor Total=13\n"
     ]
    }
   ],
   "source": [
    "\n",
    "\n",
    "def dijkstra(graf,src,dest,visit=[],distan={},prede={}):\n",
    "    if src == dest:\n",
    "        path=[]\n",
    "        pred=dest\n",
    "        while pred != None:\n",
    "            path.append(pred)\n",
    "            pred=prede.get(pred,None)\n",
    "        readable=path[0]\n",
    "        for i in range(1,len(path)): readable = path[i]+'--->'+readable\n",
    "        print('Camino mas corto: '+str(path))\n",
    "        print(\"Valor Total=\"+str(distan[dest]))\n",
    "    else :     \n",
    "        if not visit: \n",
    "            distan[src]=0\n",
    "        for vecino in graph[src] :\n",
    "            if vecino not in visit:\n",
    "                n_distan = distan[src] + graph[src][vecino]\n",
    "                if n_distan < distan.get(vecino,float('inf')):\n",
    "                    distan[vecino] = n_distan\n",
    "                    prede[vecino] = src\n",
    "        visit.append(src)\n",
    "        s_visited={}\n",
    "        for k in graph:\n",
    "            if k not in visit:\n",
    "                s_visited[k] = distan.get(k,float('inf'))        \n",
    "        x=min(s_visited, key=s_visited.get)\n",
    "        dijkstra(graph,x,dest,visit,distan,prede)\n",
    "        \n",
    "if True:\n",
    "    graph = {'a': {'b': 5, 'c': 9},\n",
    "            'b': {'a': 5, 'e': 10, 'f': 7},\n",
    "            'c': {'a': 9, 'd': 3, 'e': 5},\n",
    "            'd': {'c': 3, 'e': 1, 'g': 4},\n",
    "            'e': {'d': 1, 'b': 10, 'c': 5, 'h': 2, 'g': 4},\n",
    "            'f': {'b': 7, 'h': 8},\n",
    "            'g': {'d': 4, 'e': 4, 'i': 12},\n",
    "            'h': {'f': 8, 'e': 2, 'i': 6},\n",
    "            'i': {'h': 6, 'g': 12}\n",
    "            }\n",
    "    dijkstra(graph,'a','e')"
   ]
  },
  {
   "cell_type": "code",
   "execution_count": null,
   "metadata": {},
   "outputs": [],
   "source": []
  }
 ],
 "metadata": {
  "kernelspec": {
   "display_name": "Python 3",
   "language": "python",
   "name": "python3"
  },
  "language_info": {
   "codemirror_mode": {
    "name": "ipython",
    "version": 3
   },
   "file_extension": ".py",
   "mimetype": "text/x-python",
   "name": "python",
   "nbconvert_exporter": "python",
   "pygments_lexer": "ipython3",
   "version": "3.8.3"
  }
 },
 "nbformat": 4,
 "nbformat_minor": 4
}
